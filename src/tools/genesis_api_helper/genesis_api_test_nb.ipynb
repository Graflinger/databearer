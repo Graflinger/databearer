{
 "cells": [
  {
   "cell_type": "code",
   "execution_count": 13,
   "metadata": {},
   "outputs": [],
   "source": [
    "import requests as req\n",
    "import pandas as pd\n",
    "from src.credentials import *\n",
    "from io import StringIO"
   ]
  },
  {
   "cell_type": "code",
   "execution_count": 6,
   "metadata": {},
   "outputs": [],
   "source": [
    "response = req.get(f\"https://www-genesis.destatis.de/genesisWS/rest/2020/data/table?username={genesis_user}&password={genesis_password}&name=71141-0002\")"
   ]
  },
  {
   "cell_type": "code",
   "execution_count": 41,
   "metadata": {},
   "outputs": [],
   "source": [
    "#get data content from response\n",
    "raw_data = response.json()[\"Object\"][\"Content\"]\n",
    "\n",
    "#remove unneccessary metadata information, which makes the data unparsable for a flat table\n",
    "#remove front part of string which is not needed\n",
    "cleaned_data = raw_data.split(\"\\n;;\")[-1] \n",
    "\n",
    "#remove back part of string which is not needed\n",
    "cleaned_data = cleaned_data.split(\"\\n__________\")[0] \n",
    "\n",
    "#convert data string to stringIO object and read it as a pandas dataframe\n",
    "cleaned_data_str = StringIO(cleaned_data) \n",
    "cleaned_df = pd.read_csv(cleaned_data_str, sep=\";\")\n",
    "\n",
    "#reset index and rename columns\n",
    "cleaned_df = cleaned_df.reset_index()\n",
    "cleaned_df.rename(columns={\"level_0\": \"Measure\", \"level_1\" : \"Year\"}, inplace=True)"
   ]
  }
 ],
 "metadata": {
  "kernelspec": {
   "display_name": "Python 3",
   "language": "python",
   "name": "python3"
  },
  "language_info": {
   "codemirror_mode": {
    "name": "ipython",
    "version": 3
   },
   "file_extension": ".py",
   "mimetype": "text/x-python",
   "name": "python",
   "nbconvert_exporter": "python",
   "pygments_lexer": "ipython3",
   "version": "3.12.5"
  }
 },
 "nbformat": 4,
 "nbformat_minor": 2
}
